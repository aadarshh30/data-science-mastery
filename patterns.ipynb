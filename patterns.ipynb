{
 "cells": [
  {
   "cell_type": "code",
   "execution_count": 50,
   "id": "ce355dce-04ad-4eef-afc0-7b64c6e65d58",
   "metadata": {},
   "outputs": [
    {
     "name": "stdout",
     "output_type": "stream",
     "text": [
      "*\n",
      "**\n",
      "***\n",
      "****\n",
      "*****\n",
      "******\n",
      "*******\n"
     ]
    }
   ],
   "source": [
    "n=7\n",
    "for i in range(0,n):\n",
    "    for j in range(0,i+1):\n",
    "        print(\"*\",end=\"\")\n",
    "    print(\"\\r\")    "
   ]
  },
  {
   "cell_type": "code",
   "execution_count": 53,
   "id": "3a8785f9-cfea-40ef-8af6-7d898280a773",
   "metadata": {},
   "outputs": [
    {
     "name": "stdout",
     "output_type": "stream",
     "text": [
      "*******\n",
      "******\n",
      "*****\n",
      "****\n",
      "***\n",
      "**\n",
      "*\n"
     ]
    }
   ],
   "source": [
    "n=7\n",
    "for i in range(0,n):\n",
    "    for j in range(i,n):\n",
    "         print(\"*\",end='')\n",
    "        \n",
    "    print(\"\\r\")\n",
    "    "
   ]
  },
  {
   "cell_type": "code",
   "execution_count": 72,
   "id": "9ff34514-5ec0-40ff-a5fb-aca328eeccec",
   "metadata": {},
   "outputs": [
    {
     "name": "stdout",
     "output_type": "stream",
     "text": [
      "       *\n",
      "      **\n",
      "     ***\n",
      "    ****\n",
      "   *****\n",
      "  ******\n",
      " *******\n"
     ]
    }
   ],
   "source": [
    "for i in range(0,7):\n",
    "    for k in range(i,7):\n",
    "        print(\" \",end='')\n",
    "    for j in range(0,i+1):\n",
    "        print(\"*\",end='')\n",
    "    print(\"\\r\")           "
   ]
  },
  {
   "cell_type": "code",
   "execution_count": 66,
   "id": "1670948b-4993-44d8-a814-010541f26b1a",
   "metadata": {},
   "outputs": [
    {
     "name": "stdout",
     "output_type": "stream",
     "text": [
      "*******\n",
      " ******\n",
      "  *****\n",
      "   ****\n",
      "    ***\n",
      "     **\n",
      "      *\n"
     ]
    }
   ],
   "source": [
    "for i in range(0,7):\n",
    "    for k in range(1,i+1):\n",
    "        print(\" \",end='')\n",
    "    for j in range(i,7):\n",
    "        print(\"*\",end='')\n",
    "    print(\"\\r\")    "
   ]
  },
  {
   "cell_type": "code",
   "execution_count": 74,
   "id": "501250e4-930d-43e9-94d4-d9b428a9beb8",
   "metadata": {},
   "outputs": [
    {
     "name": "stdout",
     "output_type": "stream",
     "text": [
      "       *\n",
      "      **\n",
      "     ***\n",
      "    ****\n",
      "   *****\n",
      "  ******\n",
      " *******\n",
      " *******\n",
      "  ******\n",
      "   *****\n",
      "    ****\n",
      "     ***\n",
      "      **\n",
      "       *\n"
     ]
    }
   ],
   "source": [
    "for i in range(0,7):\n",
    "    for k in range(i,7):\n",
    "        print(\" \",end='')\n",
    "    for j in range(0,i+1):\n",
    "        print(\"*\",end='')\n",
    "    print(\"\\r\") \n",
    "for i in range(0,7):\n",
    "    for k in range(0,i+1):\n",
    "        print(\" \",end='')\n",
    "    for j in range(i,7):\n",
    "        print(\"*\",end='')\n",
    "    print(\"\\r\")        "
   ]
  },
  {
   "cell_type": "code",
   "execution_count": 86,
   "id": "2e37f1fe-094e-4193-a4bf-120aa693cb62",
   "metadata": {},
   "outputs": [
    {
     "name": "stdout",
     "output_type": "stream",
     "text": [
      "      * \n",
      "     * * \n",
      "    * * * \n",
      "   * * * * \n",
      "  * * * * * \n",
      " * * * * * * \n"
     ]
    }
   ],
   "source": [
    " for i in range(0,6):\n",
    "        for k in range(i,6):\n",
    "            print(\" \",end='')\n",
    "        for j in range(0,i+1):\n",
    "            print(\"* \",end='')\n",
    "        print(\"\\r\")    "
   ]
  },
  {
   "cell_type": "code",
   "execution_count": 94,
   "id": "cf26b829-64fd-4ca5-9eb0-95503c6bad62",
   "metadata": {},
   "outputs": [
    {
     "name": "stdout",
     "output_type": "stream",
     "text": [
      " * * * * * * \n",
      "  * * * * * \n",
      "   * * * * \n",
      "    * * * \n",
      "     * * \n",
      "      * \n"
     ]
    }
   ],
   "source": [
    "for i in range(0,6):\n",
    "    for k in range(0,i+1):\n",
    "        print(\" \",end='')\n",
    "    for j in range(i,6):\n",
    "        print(\"* \",end='')\n",
    "    print(\"\\r\")    "
   ]
  },
  {
   "cell_type": "code",
   "execution_count": 90,
   "id": "3e150618-dff0-4078-bad4-1006bd381f12",
   "metadata": {},
   "outputs": [
    {
     "name": "stdout",
     "output_type": "stream",
     "text": [
      "      * \n",
      "     * * \n",
      "    * * * \n",
      "   * * * * \n",
      "  * * * * * \n",
      " * * * * * * \n",
      " * * * * * *\n",
      "  * * * * *\n",
      "   * * * *\n",
      "    * * *\n",
      "     * *\n",
      "      *\n"
     ]
    }
   ],
   "source": [
    " for i in range(0,6):\n",
    "        for k in range(i,6):\n",
    "            print(\" \",end='')\n",
    "        for j in range(0,i+1):\n",
    "            print(\"* \",end='')\n",
    "        print(\"\\r\")\n",
    "for i in range(0,6):\n",
    "    for k in range(1,i+1):\n",
    "        print(\" \",end='')\n",
    "    for j in range(i,6):\n",
    "        print(\" *\",end='')\n",
    "    print(\"\\r\")         \n",
    "        "
   ]
  },
  {
   "cell_type": "code",
   "execution_count": null,
   "id": "702c6dcc-729d-4085-9312-620e7f7bd222",
   "metadata": {},
   "outputs": [],
   "source": []
  }
 ],
 "metadata": {
  "kernelspec": {
   "display_name": "Python 3 (ipykernel)",
   "language": "python",
   "name": "python3"
  },
  "language_info": {
   "codemirror_mode": {
    "name": "ipython",
    "version": 3
   },
   "file_extension": ".py",
   "mimetype": "text/x-python",
   "name": "python",
   "nbconvert_exporter": "python",
   "pygments_lexer": "ipython3",
   "version": "3.10.8"
  }
 },
 "nbformat": 4,
 "nbformat_minor": 5
}
