{
 "cells": [
  {
   "cell_type": "code",
   "execution_count": 5,
   "id": "2b36ece9-fa54-4709-b3d2-698068aa6efb",
   "metadata": {},
   "outputs": [
    {
     "ename": "ValueError",
     "evalue": "invalid literal for int() with base 10: 'abc'",
     "output_type": "error",
     "traceback": [
      "\u001b[0;31m---------------------------------------------------------------------------\u001b[0m",
      "\u001b[0;31mValueError\u001b[0m                                Traceback (most recent call last)",
      "Cell \u001b[0;32mIn[5], line 1\u001b[0m\n\u001b[0;32m----> 1\u001b[0m \u001b[38;5;28;43mint\u001b[39;49m\u001b[43m(\u001b[49m\u001b[38;5;124;43m'\u001b[39;49m\u001b[38;5;124;43mabc\u001b[39;49m\u001b[38;5;124;43m'\u001b[39;49m\u001b[43m)\u001b[49m\n",
      "\u001b[0;31mValueError\u001b[0m: invalid literal for int() with base 10: 'abc'"
     ]
    }
   ],
   "source": [
    "int('abc')"
   ]
  },
  {
   "cell_type": "code",
   "execution_count": 6,
   "id": "7e43a19d-0c89-4a16-ba03-1b5470c27a2c",
   "metadata": {},
   "outputs": [
    {
     "name": "stdout",
     "output_type": "stream",
     "text": [
      "1234\n"
     ]
    }
   ],
   "source": [
    "print('1234')"
   ]
  },
  {
   "cell_type": "code",
   "execution_count": 3,
   "id": "8de943c0-683d-454f-b394-8455ad21de75",
   "metadata": {},
   "outputs": [
    {
     "name": "stdout",
     "output_type": "stream",
     "text": [
      "my age is 20\n"
     ]
    }
   ],
   "source": [
    "#fstring\n",
    "age=20\n",
    "print(f\"my age is {age}\")"
   ]
  },
  {
   "cell_type": "code",
   "execution_count": 1,
   "id": "e0e9f3dd-0ea9-476e-8a05-6c00f4f5c24e",
   "metadata": {},
   "outputs": [
    {
     "name": "stdout",
     "output_type": "stream",
     "text": [
      "my name is aadarsh and my age is 20\n"
     ]
    }
   ],
   "source": [
    "name=\"aadarsh\"\n",
    "age=20\n",
    "print(f\"my name is {name} and my age is {age}\")"
   ]
  },
  {
   "cell_type": "code",
   "execution_count": 2,
   "id": "9cbcafe9-c25c-45b7-9d31-1bf416c7b3a7",
   "metadata": {},
   "outputs": [
    {
     "name": "stdout",
     "output_type": "stream",
     "text": [
      "my name is aadarsh and my age is 20\n"
     ]
    }
   ],
   "source": [
    "##format()\n",
    "name=\"aadarsh\"\n",
    "age=20\n",
    "print(\"my name is {} and my age is {}\".format(name,age))"
   ]
  },
  {
   "cell_type": "code",
   "execution_count": 3,
   "id": "5e43fb30-107a-4c90-b401-7cc51559cb3f",
   "metadata": {},
   "outputs": [
    {
     "name": "stdout",
     "output_type": "stream",
     "text": [
      "my name is 20 and my age is aadarsh\n"
     ]
    }
   ],
   "source": [
    "##format()\n",
    "name=\"aadarsh\"\n",
    "age=20\n",
    "print(\"my name is {} and my age is {}\".format(age,name))"
   ]
  },
  {
   "cell_type": "code",
   "execution_count": 6,
   "id": "8cbdd342-e62a-4176-9561-b151b03bbab4",
   "metadata": {},
   "outputs": [
    {
     "name": "stdout",
     "output_type": "stream",
     "text": [
      "my name is aadarsh and my age is 20\n"
     ]
    }
   ],
   "source": [
    "#placeholder\n",
    "print(\"my name is {firstname} and my age is {firstage}\".format(firstage=age,firstname=name))"
   ]
  },
  {
   "cell_type": "code",
   "execution_count": 4,
   "id": "c04f5e5a-6db0-49d7-84b0-0993db0d20b8",
   "metadata": {},
   "outputs": [
    {
     "name": "stdout",
     "output_type": "stream",
     "text": [
      "my age is 20 and i have completed : my degree of BCA with the name of aadarsh singh\n"
     ]
    }
   ],
   "source": [
    "name=\"aadarsh singh\"\n",
    "degree=\"BCA\"\n",
    "age=20\n",
    "print(\"my age is {myage} and i have completed : my degree of {mydegree} with the name of {myname}\".format(myage=age,myname=name,mydegree=degree))"
   ]
  },
  {
   "cell_type": "code",
   "execution_count": 5,
   "id": "4272f314-fc1a-45d2-9800-9cafae9b9028",
   "metadata": {},
   "outputs": [
    {
     "name": "stdout",
     "output_type": "stream",
     "text": [
      "my age is 20 and i have completed : my degree of BCA with the name of aadarsh singh\n"
     ]
    }
   ],
   "source": [
    "print(f\"my age is {age} and i have completed : my degree of {degree} with the name of {name}\")"
   ]
  },
  {
   "cell_type": "markdown",
   "id": "a54b23a4-4573-4b00-addc-c089960a9b1b",
   "metadata": {},
   "source": [
    "## control flow\n",
    "## decision making statements"
   ]
  },
  {
   "cell_type": "code",
   "execution_count": null,
   "id": "7a2f7151-ba7f-4111-8fb6-8ecc891ab86b",
   "metadata": {},
   "outputs": [],
   "source": [
    "# if statements\n",
    "age=18\n",
    "if age <=18:\n",
    "    print(\"you are eligible\")"
   ]
  },
  {
   "cell_type": "code",
   "execution_count": 7,
   "id": "34cb6809-ca7a-4d65-9e48-35a440616b45",
   "metadata": {},
   "outputs": [
    {
     "name": "stdin",
     "output_type": "stream",
     "text": [
      " aadarsh singh\n"
     ]
    },
    {
     "data": {
      "text/plain": [
       "'aadarsh singh'"
      ]
     },
     "execution_count": 7,
     "metadata": {},
     "output_type": "execute_result"
    }
   ],
   "source": [
    "input()"
   ]
  },
  {
   "cell_type": "code",
   "execution_count": 10,
   "id": "f2ae9f7a-c632-4d7b-a676-a39f452ab4d7",
   "metadata": {},
   "outputs": [
    {
     "name": "stdin",
     "output_type": "stream",
     "text": [
      "enter your age 46\n"
     ]
    },
    {
     "name": "stdout",
     "output_type": "stream",
     "text": [
      "thank you we will let you know\n"
     ]
    }
   ],
   "source": [
    "age=int(input(\"enter your age\"))\n",
    "if age >=18 and age <=45:\n",
    "    print(\"you are a young blood\")\n",
    "else:\n",
    "    print(\"thank you we will let you know\")"
   ]
  },
  {
   "cell_type": "code",
   "execution_count": 3,
   "id": "02bc2c6d-5d73-443f-b48a-6d5089b8d225",
   "metadata": {},
   "outputs": [
    {
     "name": "stdin",
     "output_type": "stream",
     "text": [
      "enter the price of the product  4000\n"
     ]
    },
    {
     "name": "stdout",
     "output_type": "stream",
     "text": [
      "you get a trip to goa\n",
      "you got 20% discount\n",
      "the price of the product after discount is: 3200.0\n"
     ]
    }
   ],
   "source": [
    "price=int(input(\"enter the price of the product \"))\n",
    "if price >3000:\n",
    "    if price==4000:\n",
    "        print(\"you get a trip to goa\")\n",
    "    print(\"you got 20% discount\")\n",
    "    discounted_price=price-(price*20)/100\n",
    "    print(\"the price of the product after discount is:\",discounted_price)\n",
    "elif price >=2000 and price<=3000:\n",
    "    if price==2999:\n",
    "        print(\"you got an addtional gift\")\n",
    "    print(\"you got 30% discount\")\n",
    "    discounted_price=price-(price*30)/100\n",
    "    print(\"the price of the product after discount is : \", discounted_price)\n",
    "elif price>100 and price<=2000:\n",
    "    print(\"you got 40% discount\")\n",
    "    discounted_price=price-(price*40)/100\n",
    "    print(\"the price of the product after discount is :\",discounted_price)\n",
    "    "
   ]
  },
  {
   "cell_type": "code",
   "execution_count": 1,
   "id": "323183c0-e354-420f-9102-5d26e56f51a0",
   "metadata": {},
   "outputs": [],
   "source": [
    "# loops statements"
   ]
  },
  {
   "cell_type": "code",
   "execution_count": 6,
   "id": "96fcfdf9-1584-49d0-ba12-ba545604d00e",
   "metadata": {},
   "outputs": [
    {
     "name": "stdout",
     "output_type": "stream",
     "text": [
      "26\n",
      "27\n",
      "28\n",
      "29\n",
      "30\n",
      "31\n",
      "32\n",
      "33\n",
      "34\n",
      "35\n",
      "36\n",
      "37\n",
      "38\n",
      "39\n",
      "40\n",
      "41\n",
      "42\n",
      "43\n",
      "44\n",
      "45\n",
      "46\n",
      "47\n",
      "48\n",
      "49\n",
      "50\n",
      "51\n",
      "52\n",
      "53\n",
      "54\n",
      "55\n",
      "56\n",
      "57\n",
      "58\n",
      "59\n",
      "60\n",
      "61\n",
      "time to retire\n"
     ]
    }
   ],
   "source": [
    "#while loop\n",
    "joining_age=25\n",
    "while joining_age<=60:\n",
    "    joining_age=joining_age+1\n",
    "    print(joining_age)\n",
    "else:\n",
    "    print(\"time to retire\")"
   ]
  },
  {
   "cell_type": "code",
   "execution_count": 2,
   "id": "3fa281ed-fc42-4131-b168-b525b487dfed",
   "metadata": {},
   "outputs": [
    {
     "name": "stdout",
     "output_type": "stream",
     "text": [
      "1000\n",
      "900\n",
      "800\n",
      "700\n",
      "600\n",
      "500\n",
      "400\n",
      "300\n",
      "200\n",
      "100\n",
      "insufficient balance\n"
     ]
    }
   ],
   "source": [
    "## atm machine with 1000rs\n",
    "total_amount=1000\n",
    "while total_amount!=0:\n",
    "    print(total_amount)\n",
    "    total_amount=total_amount-100\n",
    "print(\"insufficient balance\")    "
   ]
  },
  {
   "cell_type": "markdown",
   "id": "58885bd0-be5d-406a-ad56-52b529bbc41f",
   "metadata": {},
   "source": [
    "## for loop"
   ]
  },
  {
   "cell_type": "code",
   "execution_count": 3,
   "id": "c51ae1fa-209c-4b91-9376-8c642c2aa53b",
   "metadata": {},
   "outputs": [
    {
     "data": {
      "text/plain": [
       "complex"
      ]
     },
     "execution_count": 3,
     "metadata": {},
     "output_type": "execute_result"
    }
   ],
   "source": [
    "lst=['aadarsh',1,2,3,4,'apple','banana',4.67,4+5j]\n",
    "type(lst[-1])"
   ]
  },
  {
   "cell_type": "code",
   "execution_count": 4,
   "id": "a60bb66f-1808-4a73-823c-f0972a663718",
   "metadata": {},
   "outputs": [
    {
     "data": {
      "text/plain": [
       "4"
      ]
     },
     "execution_count": 4,
     "metadata": {},
     "output_type": "execute_result"
    }
   ],
   "source": [
    "lst[4]"
   ]
  },
  {
   "cell_type": "code",
   "execution_count": 5,
   "id": "997129ae-1734-470e-8117-02a95b427f3f",
   "metadata": {},
   "outputs": [
    {
     "data": {
      "text/plain": [
       "['aadarsh', 1, 2, 3, 4, 'apple', 'banana', 4.67, (4+5j)]"
      ]
     },
     "execution_count": 5,
     "metadata": {},
     "output_type": "execute_result"
    }
   ],
   "source": [
    "lst"
   ]
  },
  {
   "cell_type": "code",
   "execution_count": 6,
   "id": "fdd640f9-5934-491e-b9ec-6ba483b821b9",
   "metadata": {},
   "outputs": [
    {
     "name": "stdout",
     "output_type": "stream",
     "text": [
      "aadarsh\n",
      "1\n",
      "2\n",
      "3\n",
      "4\n",
      "apple\n",
      "banana\n",
      "4.67\n",
      "(4+5j)\n"
     ]
    }
   ],
   "source": [
    "for x in lst:\n",
    "    print(x)"
   ]
  },
  {
   "cell_type": "code",
   "execution_count": 61,
   "id": "1de6ae30-809d-4599-b7b2-4a4a636f6edd",
   "metadata": {},
   "outputs": [
    {
     "name": "stdout",
     "output_type": "stream",
     "text": [
      "apple\n",
      "mango\n"
     ]
    }
   ],
   "source": [
    "fruits_list=['apple',\"mango\",'cherry','papaya','banana']\n",
    "for a in fruits_list:\n",
    "    if a==\"cherry\":\n",
    "        break #break will skip entire loop\n",
    "    print(a)"
   ]
  },
  {
   "cell_type": "code",
   "execution_count": 62,
   "id": "cf25ecb4-48c2-4360-abf1-db1ea18b8782",
   "metadata": {},
   "outputs": [
    {
     "name": "stdout",
     "output_type": "stream",
     "text": [
      "apple\n",
      "mango\n",
      "papaya\n",
      "banana\n"
     ]
    }
   ],
   "source": [
    "fruits_list=['apple',\"mango\",'cherry','papaya','banana']\n",
    "for a in fruits_list:\n",
    "    if a==\"cherry\":\n",
    "        continue  #continue will only skip one step whichever step is becoming true\n",
    "    print(a)"
   ]
  },
  {
   "cell_type": "code",
   "execution_count": 20,
   "id": "b4de279b-1df1-4056-b651-6b6c739e2604",
   "metadata": {},
   "outputs": [
    {
     "name": "stdout",
     "output_type": "stream",
     "text": [
      "apple' 'mango' 'cherry' 'papaya' 'banana' '"
     ]
    }
   ],
   "source": [
    "#if you want to print the elements of a list in a single line use end= ' '\n",
    "fruits_list=['apple',\"mango\",'cherry','papaya','banana']\n",
    "for a in fruits_list:\n",
    "    print(a, end=' ')\n",
    "    "
   ]
  },
  {
   "cell_type": "code",
   "execution_count": 23,
   "id": "cf38629c-7030-45bf-99ae-f41a6c32392e",
   "metadata": {},
   "outputs": [
    {
     "name": "stdout",
     "output_type": "stream",
     "text": [
      "m\n",
      "a\n",
      "n\n",
      "g\n",
      "o\n"
     ]
    }
   ],
   "source": [
    "fruit=\"mango\"\n",
    "for i in fruit:\n",
    "    print(i)"
   ]
  },
  {
   "cell_type": "code",
   "execution_count": 24,
   "id": "9592e860-b7f0-4c3f-8175-9eaf26271c1f",
   "metadata": {},
   "outputs": [
    {
     "data": {
      "text/plain": [
       "'m'"
      ]
     },
     "execution_count": 24,
     "metadata": {},
     "output_type": "execute_result"
    }
   ],
   "source": [
    "fruit[0]"
   ]
  },
  {
   "cell_type": "code",
   "execution_count": 25,
   "id": "696d895e-a563-486c-b248-26340de8863c",
   "metadata": {},
   "outputs": [
    {
     "data": {
      "text/plain": [
       "'g'"
      ]
     },
     "execution_count": 25,
     "metadata": {},
     "output_type": "execute_result"
    }
   ],
   "source": [
    "fruit[3]"
   ]
  },
  {
   "cell_type": "code",
   "execution_count": 46,
   "id": "777c67a9-e8ca-4606-8c57-9f823aedf2fb",
   "metadata": {},
   "outputs": [
    {
     "name": "stdout",
     "output_type": "stream",
     "text": [
      "1\n",
      "3\n",
      "5\n"
     ]
    }
   ],
   "source": [
    "for i in range(1, 7,2):\n",
    "    print(i)"
   ]
  },
  {
   "cell_type": "code",
   "execution_count": 41,
   "id": "22343ffe-b646-419a-805c-67dcde6c95ab",
   "metadata": {},
   "outputs": [
    {
     "name": "stdout",
     "output_type": "stream",
     "text": [
      "*\n",
      "**\n",
      "***\n",
      "****\n",
      "*****\n",
      "******\n",
      "*******\n"
     ]
    }
   ],
   "source": [
    "#nested loop\n",
    "n=7\n",
    "for i in range(0,n):\n",
    "    for j in range(0,i+1):\n",
    "        print(\"*\",end='')\n",
    "    print(\"\\r\")       #\\r is use to move to the next line"
   ]
  },
  {
   "cell_type": "code",
   "execution_count": 2,
   "id": "3139348d-2131-4e78-bb34-02c8667f931d",
   "metadata": {},
   "outputs": [
    {
     "name": "stdout",
     "output_type": "stream",
     "text": [
      "* \n",
      "*** \n",
      "***** \n",
      "******* \n"
     ]
    }
   ],
   "source": [
    "n=7\n",
    "for i in range(0,n,2):\n",
    "    for j in range(0,i+1):\n",
    "        print(\"*\",end='')\n",
    "    print(\"\\r\") "
   ]
  },
  {
   "cell_type": "code",
   "execution_count": null,
   "id": "0e6228b9-ca14-406a-8224-bed971cf377f",
   "metadata": {},
   "outputs": [],
   "source": []
  }
 ],
 "metadata": {
  "kernelspec": {
   "display_name": "Python 3 (ipykernel)",
   "language": "python",
   "name": "python3"
  },
  "language_info": {
   "codemirror_mode": {
    "name": "ipython",
    "version": 3
   },
   "file_extension": ".py",
   "mimetype": "text/x-python",
   "name": "python",
   "nbconvert_exporter": "python",
   "pygments_lexer": "ipython3",
   "version": "3.10.8"
  }
 },
 "nbformat": 4,
 "nbformat_minor": 5
}
