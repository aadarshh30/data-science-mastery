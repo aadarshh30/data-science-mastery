{
 "cells": [
  {
   "cell_type": "markdown",
   "id": "5b490db0-fe6e-42ef-ba59-7c028720a0be",
   "metadata": {},
   "source": [
    "logical operators\n",
    "(and, \n",
    "or, \n",
    "not)"
   ]
  },
  {
   "cell_type": "code",
   "execution_count": 3,
   "id": "26aef57a-b263-47b8-8e26-033a50df9bf3",
   "metadata": {},
   "outputs": [
    {
     "data": {
      "text/plain": [
       "True"
      ]
     },
     "execution_count": 3,
     "metadata": {},
     "output_type": "execute_result"
    }
   ],
   "source": [
    "True and True"
   ]
  },
  {
   "cell_type": "code",
   "execution_count": 9,
   "id": "f800745e-9d04-47a6-8737-d97187942840",
   "metadata": {},
   "outputs": [
    {
     "name": "stdout",
     "output_type": "stream",
     "text": [
      "defined value of start=True\n",
      "defined value of stop=False\n",
      "\n",
      "value of stop by negative start=False\n",
      "value of start by negative stop=True\n"
     ]
    }
   ],
   "source": [
    "##printing statements using boolean values and not operator\n",
    "start = True\n",
    "stop=False\n",
    "print(f\"defined value of start={start}\")\n",
    "print(f\"defined value of stop={stop}\\n\")\n",
    "print(f\"value of stop by negative start={not start}\")\n",
    "print(f\"value of start by negative stop={not stop}\")"
   ]
  },
  {
   "cell_type": "code",
   "execution_count": 10,
   "id": "f5ecbc57-4ee4-49e6-819b-45b7cd6c2d7d",
   "metadata": {},
   "outputs": [
    {
     "data": {
      "text/plain": [
       "False"
      ]
     },
     "execution_count": 10,
     "metadata": {},
     "output_type": "execute_result"
    }
   ],
   "source": [
    "not True"
   ]
  },
  {
   "cell_type": "code",
   "execution_count": 11,
   "id": "194c01cf-40fe-4dee-97d3-17373e046c72",
   "metadata": {},
   "outputs": [
    {
     "data": {
      "text/plain": [
       "True"
      ]
     },
     "execution_count": 11,
     "metadata": {},
     "output_type": "execute_result"
    }
   ],
   "source": [
    "not bool(0)"
   ]
  },
  {
   "cell_type": "code",
   "execution_count": 12,
   "id": "ed3c36f7-8a67-4f05-b318-6e4d0fc87d6b",
   "metadata": {},
   "outputs": [
    {
     "data": {
      "text/plain": [
       "False"
      ]
     },
     "execution_count": 12,
     "metadata": {},
     "output_type": "execute_result"
    }
   ],
   "source": [
    "not bool(1)"
   ]
  },
  {
   "cell_type": "code",
   "execution_count": 15,
   "id": "72cd2dda-733b-4488-a143-dda686586cd6",
   "metadata": {},
   "outputs": [
    {
     "data": {
      "text/plain": [
       "0"
      ]
     },
     "execution_count": 15,
     "metadata": {},
     "output_type": "execute_result"
    }
   ],
   "source": [
    " int (bool(0))"
   ]
  },
  {
   "cell_type": "code",
   "execution_count": 23,
   "id": "4ec8cf66-9fd3-4979-aa08-5e08246d5d13",
   "metadata": {},
   "outputs": [
    {
     "name": "stdout",
     "output_type": "stream",
     "text": [
      "defined value of start=1\n",
      "defined value of stop=0\n",
      "\n",
      "value of stop by negative start=0\n",
      "value of start by negative stop=1\n"
     ]
    }
   ],
   "source": [
    "start = 1\n",
    "stop=0\n",
    "print(f\"defined value of start={start}\")\n",
    "print(f\"defined value of stop={stop}\\n\")\n",
    "print(f\"value of stop by negative start={int(not start)}\")\n",
    "print(f\"value of start by negative stop={int(not stop)}\")"
   ]
  },
  {
   "cell_type": "code",
   "execution_count": 28,
   "id": "9458c418-b317-4668-9977-cd2e0b2675c9",
   "metadata": {},
   "outputs": [
    {
     "data": {
      "text/plain": [
       "0"
      ]
     },
     "execution_count": 28,
     "metadata": {},
     "output_type": "execute_result"
    }
   ],
   "source": [
    "int(not bool(1))"
   ]
  },
  {
   "cell_type": "code",
   "execution_count": 29,
   "id": "f2cc3efb-9377-40ce-8ae2-d7e3e1af60d9",
   "metadata": {},
   "outputs": [
    {
     "data": {
      "text/plain": [
       "False"
      ]
     },
     "execution_count": 29,
     "metadata": {},
     "output_type": "execute_result"
    }
   ],
   "source": [
    "not 2"
   ]
  },
  {
   "cell_type": "code",
   "execution_count": 30,
   "id": "f568112f-cacb-4c4e-b231-c1b127093cbf",
   "metadata": {},
   "outputs": [
    {
     "data": {
      "text/plain": [
       "False"
      ]
     },
     "execution_count": 30,
     "metadata": {},
     "output_type": "execute_result"
    }
   ],
   "source": [
    "not -3"
   ]
  },
  {
   "cell_type": "markdown",
   "id": "67f18fda-d53f-4220-a9c4-720921ea50e3",
   "metadata": {},
   "source": [
    "LOGICAL AND"
   ]
  },
  {
   "cell_type": "code",
   "execution_count": 36,
   "id": "0aa516b4-fabf-4e75-987a-ad50df4173f0",
   "metadata": {},
   "outputs": [
    {
     "data": {
      "text/plain": [
       "True"
      ]
     },
     "execution_count": 36,
     "metadata": {},
     "output_type": "execute_result"
    }
   ],
   "source": [
    "not (False)* True"
   ]
  },
  {
   "cell_type": "code",
   "execution_count": 33,
   "id": "fa02b381-50e8-4b7b-af1b-e602b7323a7a",
   "metadata": {},
   "outputs": [
    {
     "data": {
      "text/plain": [
       "1"
      ]
     },
     "execution_count": 33,
     "metadata": {},
     "output_type": "execute_result"
    }
   ],
   "source": [
    "True *True"
   ]
  },
  {
   "cell_type": "code",
   "execution_count": 40,
   "id": "8223dbe2-9b2d-45ac-bfd4-5ab744de9eb7",
   "metadata": {},
   "outputs": [
    {
     "data": {
      "text/plain": [
       "0"
      ]
     },
     "execution_count": 40,
     "metadata": {},
     "output_type": "execute_result"
    }
   ],
   "source": [
    "(not(False))*False #precedence rule "
   ]
  },
  {
   "cell_type": "code",
   "execution_count": 45,
   "id": "7605f1aa-7f90-4337-aec4-7b7e1b0ce817",
   "metadata": {},
   "outputs": [
    {
     "data": {
      "text/plain": [
       "True"
      ]
     },
     "execution_count": 45,
     "metadata": {},
     "output_type": "execute_result"
    }
   ],
   "source": [
    "not False* False"
   ]
  },
  {
   "cell_type": "markdown",
   "id": "61bdf88f-cc6a-483e-a1c5-fc8a83009c69",
   "metadata": {},
   "source": [
    "equality operators:\n",
    " is    \n",
    " is not"
   ]
  },
  {
   "cell_type": "code",
   "execution_count": 1,
   "id": "b004d799-bba4-4c55-8ff1-17f68341db2e",
   "metadata": {},
   "outputs": [],
   "source": [
    "lst_a=[1,2,3,4]\n",
    "lst_b=[1,2,3,4]\n"
   ]
  },
  {
   "cell_type": "code",
   "execution_count": 4,
   "id": "cdec46a5-bd59-4e50-86f3-fe7d87ae44f5",
   "metadata": {},
   "outputs": [
    {
     "name": "stdout",
     "output_type": "stream",
     "text": [
      "139956276111040\n",
      "139956276110848\n"
     ]
    }
   ],
   "source": [
    "print(id(lst_a))   ##returns identity of the object\n",
    "print(id(lst_b))"
   ]
  },
  {
   "cell_type": "code",
   "execution_count": 6,
   "id": "405a569c-0979-49ab-87f6-c7948ed10f39",
   "metadata": {},
   "outputs": [
    {
     "data": {
      "text/plain": [
       "False"
      ]
     },
     "execution_count": 6,
     "metadata": {},
     "output_type": "execute_result"
    }
   ],
   "source": [
    "lst_a is lst_b   ## it is returning false because both lst_a and lst_b is not pointing to the same object, both have different address"
   ]
  },
  {
   "cell_type": "code",
   "execution_count": 7,
   "id": "4a99528e-8258-416f-af9b-afdfd8052ff1",
   "metadata": {},
   "outputs": [],
   "source": [
    "lst_a=[1,2,3,4]\n",
    "lst_b=lst_a\n"
   ]
  },
  {
   "cell_type": "code",
   "execution_count": 8,
   "id": "2a7a22e6-39c0-464f-bbda-b1800889141b",
   "metadata": {},
   "outputs": [
    {
     "name": "stdout",
     "output_type": "stream",
     "text": [
      "139956302864704\n",
      "139956302864704\n"
     ]
    }
   ],
   "source": [
    "print(id(lst_a))\n",
    "print(id(lst_b))"
   ]
  },
  {
   "cell_type": "code",
   "execution_count": 9,
   "id": "50687729-9493-488f-b7fd-f8e7e33e116f",
   "metadata": {},
   "outputs": [
    {
     "data": {
      "text/plain": [
       "True"
      ]
     },
     "execution_count": 9,
     "metadata": {},
     "output_type": "execute_result"
    }
   ],
   "source": [
    "lst_a is lst_b"
   ]
  },
  {
   "cell_type": "code",
   "execution_count": 10,
   "id": "7e2fbb3c-4d06-48b0-8149-ee1be2de72ba",
   "metadata": {},
   "outputs": [],
   "source": [
    "lst_a=[1,2,3,4]\n",
    "lst_b=[1,2,3,4]\n"
   ]
  },
  {
   "cell_type": "code",
   "execution_count": 11,
   "id": "146b6307-d846-4971-b2e7-84b0c6b6e47a",
   "metadata": {},
   "outputs": [
    {
     "data": {
      "text/plain": [
       "True"
      ]
     },
     "execution_count": 11,
     "metadata": {},
     "output_type": "execute_result"
    }
   ],
   "source": [
    "lst_a is not lst_b"
   ]
  },
  {
   "cell_type": "code",
   "execution_count": 13,
   "id": "acc28ed3-8ad2-4325-b7d8-ed7a774000c6",
   "metadata": {},
   "outputs": [
    {
     "data": {
      "text/plain": [
       "True"
      ]
     },
     "execution_count": 13,
     "metadata": {},
     "output_type": "execute_result"
    }
   ],
   "source": [
    "lst_a ==lst_b   ## == it checks the content inside the list"
   ]
  },
  {
   "cell_type": "code",
   "execution_count": 14,
   "id": "00097c59-3061-4c79-a949-9d2adaa1ddc3",
   "metadata": {},
   "outputs": [
    {
     "name": "stdout",
     "output_type": "stream",
     "text": [
      "139956351664400\n",
      "139956351664400\n"
     ]
    }
   ],
   "source": [
    "a=2\n",
    "b=2\n",
    "print(id(a))\n",
    "print(id(b))"
   ]
  },
  {
   "cell_type": "code",
   "execution_count": 15,
   "id": "fa42df6c-ce64-4745-9d16-c0c76a9ca1aa",
   "metadata": {},
   "outputs": [
    {
     "name": "stdout",
     "output_type": "stream",
     "text": [
      "139956276296176\n",
      "139956276296176\n"
     ]
    }
   ],
   "source": [
    "str1=\"aadarsh\"\n",
    "str2=\"aadarsh\"\n",
    "print(id(str1))\n",
    "print(id(str2))"
   ]
  },
  {
   "cell_type": "code",
   "execution_count": 16,
   "id": "27010532-c5bd-4940-8d2e-f1b797384823",
   "metadata": {},
   "outputs": [
    {
     "name": "stdout",
     "output_type": "stream",
     "text": [
      "139956276296176\n",
      "139956276295216\n"
     ]
    }
   ],
   "source": [
    "str1=\"aadarsh\"\n",
    "str2=\"aadarsh2\"\n",
    "print(id(str1))\n",
    "print(id(str2))"
   ]
  },
  {
   "cell_type": "markdown",
   "id": "9ae39990-5a35-414a-a2c4-dd018c8b5066",
   "metadata": {},
   "source": [
    "why it is different for string , variable  and list??\n",
    " because list is storing multiple values and due to mutability"
   ]
  },
  {
   "cell_type": "code",
   "execution_count": 17,
   "id": "0204ecab-e729-4dc2-a66d-7784b92ac04a",
   "metadata": {},
   "outputs": [
    {
     "data": {
      "text/plain": [
       "[1, 2, 3, 4]"
      ]
     },
     "execution_count": 17,
     "metadata": {},
     "output_type": "execute_result"
    }
   ],
   "source": [
    "lst_a"
   ]
  },
  {
   "cell_type": "code",
   "execution_count": 18,
   "id": "6984eae6-ac2d-4b3e-87e3-cf4df65cddb5",
   "metadata": {},
   "outputs": [
    {
     "data": {
      "text/plain": [
       "3"
      ]
     },
     "execution_count": 18,
     "metadata": {},
     "output_type": "execute_result"
    }
   ],
   "source": [
    "lst_a[2]"
   ]
  },
  {
   "cell_type": "code",
   "execution_count": 23,
   "id": "00a5d0a7-4a01-4a6e-b6f9-48e3d4fb0f73",
   "metadata": {},
   "outputs": [
    {
     "data": {
      "text/plain": [
       "[1, 10, 3, 4]"
      ]
     },
     "execution_count": 23,
     "metadata": {},
     "output_type": "execute_result"
    }
   ],
   "source": [
    "lst_a[1]=10\n",
    "lst_a"
   ]
  },
  {
   "cell_type": "code",
   "execution_count": 24,
   "id": "350b2d46-f49c-4f2c-8af0-3a223375501c",
   "metadata": {},
   "outputs": [
    {
     "data": {
      "text/plain": [
       "'aadarsh'"
      ]
     },
     "execution_count": 24,
     "metadata": {},
     "output_type": "execute_result"
    }
   ],
   "source": [
    "str1"
   ]
  },
  {
   "cell_type": "code",
   "execution_count": 26,
   "id": "bb13b2a2-31e1-4fe9-959b-84c6304491d6",
   "metadata": {},
   "outputs": [
    {
     "data": {
      "text/plain": [
       "'d'"
      ]
     },
     "execution_count": 26,
     "metadata": {},
     "output_type": "execute_result"
    }
   ],
   "source": [
    "str1[2]"
   ]
  },
  {
   "cell_type": "code",
   "execution_count": 28,
   "id": "dbd4cf81-3880-4425-a09c-01e633495844",
   "metadata": {},
   "outputs": [
    {
     "ename": "NameError",
     "evalue": "name 'f' is not defined",
     "output_type": "error",
     "traceback": [
      "\u001b[0;31m---------------------------------------------------------------------------\u001b[0m",
      "\u001b[0;31mNameError\u001b[0m                                 Traceback (most recent call last)",
      "Cell \u001b[0;32mIn[28], line 1\u001b[0m\n\u001b[0;32m----> 1\u001b[0m str1[\u001b[38;5;241m2\u001b[39m]\u001b[38;5;241m=\u001b[39m\u001b[43mf\u001b[49m \u001b[38;5;66;03m## immutable\u001b[39;00m\n",
      "\u001b[0;31mNameError\u001b[0m: name 'f' is not defined"
     ]
    }
   ],
   "source": [
    "str1[2]=f ## immutable"
   ]
  },
  {
   "cell_type": "code",
   "execution_count": 29,
   "id": "c0d413b6-d235-46f0-9789-b7f50b4bc850",
   "metadata": {},
   "outputs": [
    {
     "data": {
      "text/plain": [
       "'0b1010'"
      ]
     },
     "execution_count": 29,
     "metadata": {},
     "output_type": "execute_result"
    }
   ],
   "source": [
    "a=10\n",
    "bin(a)"
   ]
  },
  {
   "cell_type": "code",
   "execution_count": 30,
   "id": "b6e9d2c0-c98a-440d-bc04-a8d3bd117e90",
   "metadata": {},
   "outputs": [],
   "source": [
    "a=2345"
   ]
  },
  {
   "cell_type": "code",
   "execution_count": 31,
   "id": "dbefa2fa-e92b-4d10-bac8-9882bb0e9085",
   "metadata": {},
   "outputs": [
    {
     "data": {
      "text/plain": [
       "'0b100100101001'"
      ]
     },
     "execution_count": 31,
     "metadata": {},
     "output_type": "execute_result"
    }
   ],
   "source": [
    "bin(a)"
   ]
  },
  {
   "cell_type": "code",
   "execution_count": 32,
   "id": "c0216dac-9eaa-40a8-adb7-ac36f08fee23",
   "metadata": {},
   "outputs": [
    {
     "data": {
      "text/plain": [
       "-2346"
      ]
     },
     "execution_count": 32,
     "metadata": {},
     "output_type": "execute_result"
    }
   ],
   "source": [
    "~a  #prefix unary operator"
   ]
  },
  {
   "cell_type": "markdown",
   "id": "78cd418a-eabf-4849-8e7a-31f1a5854f65",
   "metadata": {},
   "source": [
    "strings"
   ]
  },
  {
   "cell_type": "code",
   "execution_count": null,
   "id": "3a75e322-5b0a-4407-a617-b3f5a32e4078",
   "metadata": {},
   "outputs": [],
   "source": [
    "str1=\"hello and welcome\"\n",
    "type(str1)"
   ]
  },
  {
   "cell_type": "code",
   "execution_count": 3,
   "id": "ba3e80ad-7979-4da7-9285-2e857c34d629",
   "metadata": {},
   "outputs": [],
   "source": [
    "str1=\"aadarsh singh\""
   ]
  },
  {
   "cell_type": "code",
   "execution_count": 4,
   "id": "73abd82f-60bb-4065-959a-1768da0c5239",
   "metadata": {},
   "outputs": [
    {
     "name": "stdout",
     "output_type": "stream",
     "text": [
      "aadarsh singh\n"
     ]
    }
   ],
   "source": [
    "print(str1)"
   ]
  },
  {
   "cell_type": "code",
   "execution_count": 3,
   "id": "ea6a73ca-506a-4b9f-b631-60005f63f96e",
   "metadata": {},
   "outputs": [],
   "source": [
    "str1=\"things you own end up owning you\""
   ]
  },
  {
   "cell_type": "code",
   "execution_count": 7,
   "id": "c41f9496-bef1-4443-b3be-ab77f99bc7d6",
   "metadata": {},
   "outputs": [
    {
     "data": {
      "text/plain": [
       "'o'"
      ]
     },
     "execution_count": 7,
     "metadata": {},
     "output_type": "execute_result"
    }
   ],
   "source": [
    "str1[8]"
   ]
  },
  {
   "cell_type": "code",
   "execution_count": 12,
   "id": "54052720-36bd-4b86-9f70-01405958aa74",
   "metadata": {},
   "outputs": [
    {
     "data": {
      "text/plain": [
       "'ou '"
      ]
     },
     "execution_count": 12,
     "metadata": {},
     "output_type": "execute_result"
    }
   ],
   "source": [
    "#slice operation\n",
    "str1[8:11] ##goes up to 10th index"
   ]
  },
  {
   "cell_type": "code",
   "execution_count": 14,
   "id": "7afbc7d4-8d71-4c3b-807c-02a5e43572ac",
   "metadata": {},
   "outputs": [
    {
     "data": {
      "text/plain": [
       "'u'"
      ]
     },
     "execution_count": 14,
     "metadata": {},
     "output_type": "execute_result"
    }
   ],
   "source": [
    "str1[-1]"
   ]
  },
  {
   "cell_type": "code",
   "execution_count": 18,
   "id": "d5b0db9c-d5a0-4dce-8908-d968c164e8a5",
   "metadata": {},
   "outputs": [
    {
     "data": {
      "text/plain": [
       "'ing '"
      ]
     },
     "execution_count": 18,
     "metadata": {},
     "output_type": "execute_result"
    }
   ],
   "source": [
    "str1[-7:-3]"
   ]
  },
  {
   "cell_type": "code",
   "execution_count": 28,
   "id": "5230de77-2e4f-465a-8d97-0ca52d5b48dd",
   "metadata": {},
   "outputs": [
    {
     "data": {
      "text/plain": [
       "''"
      ]
     },
     "execution_count": 28,
     "metadata": {},
     "output_type": "execute_result"
    }
   ],
   "source": [
    "str1[-7:2]"
   ]
  },
  {
   "cell_type": "code",
   "execution_count": 22,
   "id": "99a8f0dc-cabc-44e1-b074-83bae1795dd5",
   "metadata": {},
   "outputs": [
    {
     "data": {
      "text/plain": [
       "'things you own end up owning yo'"
      ]
     },
     "execution_count": 22,
     "metadata": {},
     "output_type": "execute_result"
    }
   ],
   "source": [
    "str1[:-1]"
   ]
  },
  {
   "cell_type": "code",
   "execution_count": 24,
   "id": "e07a5f73-06d3-4058-8da6-ec9cb33977f1",
   "metadata": {},
   "outputs": [
    {
     "data": {
      "text/plain": [
       "'things you own end up owning you'"
      ]
     },
     "execution_count": 24,
     "metadata": {},
     "output_type": "execute_result"
    }
   ],
   "source": [
    "str1[:]"
   ]
  },
  {
   "cell_type": "code",
   "execution_count": 54,
   "id": "93921a25-f397-43a4-8324-303e359cc6cc",
   "metadata": {},
   "outputs": [
    {
     "data": {
      "text/plain": [
       "'da'"
      ]
     },
     "execution_count": 54,
     "metadata": {},
     "output_type": "execute_result"
    }
   ],
   "source": [
    "name=\"aadarsh\"\n",
    "name[-5:4]"
   ]
  },
  {
   "cell_type": "code",
   "execution_count": 1,
   "id": "1be617f0-0604-4349-bb1d-6d2e03e19f0b",
   "metadata": {},
   "outputs": [
    {
     "data": {
      "text/plain": [
       "'ou '"
      ]
     },
     "execution_count": 1,
     "metadata": {},
     "output_type": "execute_result"
    }
   ],
   "source": [
    "str2=\"there you go\"\n",
    "str2[7:-2]"
   ]
  },
  {
   "cell_type": "code",
   "execution_count": 4,
   "id": "4e8c255b-fc55-4c7e-9dc3-4bc0f95c3b71",
   "metadata": {},
   "outputs": [
    {
     "data": {
      "text/plain": [
       "'ing y'"
      ]
     },
     "execution_count": 4,
     "metadata": {},
     "output_type": "execute_result"
    }
   ],
   "source": [
    "str1[-7:-2]"
   ]
  },
  {
   "cell_type": "code",
   "execution_count": 5,
   "id": "e18a6e82-531f-40ae-a228-e5a8d4123d52",
   "metadata": {},
   "outputs": [
    {
     "data": {
      "text/plain": [
       "'there you '"
      ]
     },
     "execution_count": 5,
     "metadata": {},
     "output_type": "execute_result"
    }
   ],
   "source": [
    "str2[:-2]"
   ]
  },
  {
   "cell_type": "code",
   "execution_count": 6,
   "id": "abc14af8-9ac9-4ffb-b1c8-397f9d313508",
   "metadata": {},
   "outputs": [
    {
     "data": {
      "text/plain": [
       "'things you own end up owning you'"
      ]
     },
     "execution_count": 6,
     "metadata": {},
     "output_type": "execute_result"
    }
   ],
   "source": [
    "str1"
   ]
  },
  {
   "cell_type": "code",
   "execution_count": 8,
   "id": "a9e6d9f4-fc98-47b6-8e5c-644dd71e9b16",
   "metadata": {},
   "outputs": [
    {
     "data": {
      "text/plain": [
       "'things you own end up owning you'"
      ]
     },
     "execution_count": 8,
     "metadata": {},
     "output_type": "execute_result"
    }
   ],
   "source": [
    "str1[:]"
   ]
  },
  {
   "cell_type": "code",
   "execution_count": 16,
   "id": "2c51155b-ce01-4fa9-a742-2961c714522a",
   "metadata": {},
   "outputs": [
    {
     "data": {
      "text/plain": [
       "' sgniht'"
      ]
     },
     "execution_count": 16,
     "metadata": {},
     "output_type": "execute_result"
    }
   ],
   "source": [
    "str1[6::-1] ##:: number after this is step sign"
   ]
  },
  {
   "cell_type": "code",
   "execution_count": 18,
   "id": "f1915e0b-b9b4-4782-a28f-6efd7fc66af7",
   "metadata": {},
   "outputs": [
    {
     "name": "stdin",
     "output_type": "stream",
     "text": [
      "enter a string to be reversed aadarsh\n"
     ]
    },
    {
     "name": "stdout",
     "output_type": "stream",
     "text": [
      "hsradaa\n"
     ]
    }
   ],
   "source": [
    "string=input(\"enter a string to be reversed\")\n",
    "string[::-1]\n",
    "print(string[::-1])"
   ]
  },
  {
   "cell_type": "code",
   "execution_count": 50,
   "id": "4b8f8aaf-8a55-4fdd-a9c9-1658040f7192",
   "metadata": {},
   "outputs": [
    {
     "data": {
      "text/plain": [
       "'si'"
      ]
     },
     "execution_count": 50,
     "metadata": {},
     "output_type": "execute_result"
    }
   ],
   "source": [
    "str1=\"krish\"\n",
    "str1[3:1:-1]"
   ]
  },
  {
   "cell_type": "code",
   "execution_count": 34,
   "id": "9776cd85-f446-4793-a570-228cfa5bc3c2",
   "metadata": {},
   "outputs": [
    {
     "data": {
      "text/plain": [
       "'science'"
      ]
     },
     "execution_count": 34,
     "metadata": {},
     "output_type": "execute_result"
    }
   ],
   "source": [
    "course=\"data science master\"\n",
    "course[5:12]\n"
   ]
  },
  {
   "cell_type": "code",
   "execution_count": 42,
   "id": "74d884f7-a171-4cf3-9261-fd1e8ae5d1b2",
   "metadata": {},
   "outputs": [
    {
     "data": {
      "text/plain": [
       "'retsam ecneics atad'"
      ]
     },
     "execution_count": 42,
     "metadata": {},
     "output_type": "execute_result"
    }
   ],
   "source": [
    "course[::-1]"
   ]
  },
  {
   "cell_type": "code",
   "execution_count": 59,
   "id": "e743ef51-5c9f-4e53-923c-5f8ea17a04d3",
   "metadata": {},
   "outputs": [
    {
     "data": {
      "text/plain": [
       "'ecneics'"
      ]
     },
     "execution_count": 59,
     "metadata": {},
     "output_type": "execute_result"
    }
   ],
   "source": [
    "course[11:4:-1]"
   ]
  },
  {
   "cell_type": "code",
   "execution_count": 78,
   "id": "fb885a8d-5afa-4ba1-8074-a2463bcd0e8b",
   "metadata": {},
   "outputs": [
    {
     "data": {
      "text/plain": [
       "'aadarsh singh \\r'"
      ]
     },
     "execution_count": 78,
     "metadata": {},
     "output_type": "execute_result"
    }
   ],
   "source": [
    "name=\"aadarsh singh \"\n",
    "name"
   ]
  },
  {
   "cell_type": "code",
   "execution_count": 79,
   "id": "e4ea7f08-9018-4ebb-8c02-65a352b42dc2",
   "metadata": {},
   "outputs": [
    {
     "data": {
      "text/plain": [
       "'aadarsh singh \\raadarsh singh \\raadarsh singh \\raadarsh singh \\r'"
      ]
     },
     "execution_count": 79,
     "metadata": {},
     "output_type": "execute_result"
    }
   ],
   "source": [
    "name * 4"
   ]
  },
  {
   "cell_type": "code",
   "execution_count": 66,
   "id": "24f0da36-d5f7-4e48-9b50-6b6f88baef7d",
   "metadata": {},
   "outputs": [
    {
     "data": {
      "text/plain": [
       "14"
      ]
     },
     "execution_count": 66,
     "metadata": {},
     "output_type": "execute_result"
    }
   ],
   "source": [
    "len(name)"
   ]
  },
  {
   "cell_type": "code",
   "execution_count": 67,
   "id": "8b071362-f14d-4f38-8019-e4953a6287c8",
   "metadata": {},
   "outputs": [
    {
     "data": {
      "text/plain": [
       "'data science master'"
      ]
     },
     "execution_count": 67,
     "metadata": {},
     "output_type": "execute_result"
    }
   ],
   "source": [
    "course"
   ]
  },
  {
   "cell_type": "code",
   "execution_count": 69,
   "id": "b5f343ac-ebf5-4122-b323-d8459c4f6200",
   "metadata": {},
   "outputs": [
    {
     "data": {
      "text/plain": [
       "9"
      ]
     },
     "execution_count": 69,
     "metadata": {},
     "output_type": "execute_result"
    }
   ],
   "source": [
    "course.find(\"n\")"
   ]
  },
  {
   "cell_type": "code",
   "execution_count": 70,
   "id": "399b817a-59dd-4403-b272-d36982d4d189",
   "metadata": {},
   "outputs": [
    {
     "data": {
      "text/plain": [
       "1"
      ]
     },
     "execution_count": 70,
     "metadata": {},
     "output_type": "execute_result"
    }
   ],
   "source": [
    "course.find(\"a\")"
   ]
  },
  {
   "cell_type": "code",
   "execution_count": 71,
   "id": "4e921cc6-b2c3-4b46-8f8f-108a40543718",
   "metadata": {},
   "outputs": [
    {
     "data": {
      "text/plain": [
       "3"
      ]
     },
     "execution_count": 71,
     "metadata": {},
     "output_type": "execute_result"
    }
   ],
   "source": [
    "course.find(\"a\",2,10)"
   ]
  },
  {
   "cell_type": "code",
   "execution_count": 72,
   "id": "8d0a2901-f8df-4050-b78e-58e7a0764721",
   "metadata": {},
   "outputs": [
    {
     "data": {
      "text/plain": [
       "8"
      ]
     },
     "execution_count": 72,
     "metadata": {},
     "output_type": "execute_result"
    }
   ],
   "source": [
    "course.find(\"e\",5,12)"
   ]
  },
  {
   "cell_type": "code",
   "execution_count": 73,
   "id": "9015c33a-d5c7-4cb9-a9b1-9374acf9f4d4",
   "metadata": {},
   "outputs": [
    {
     "data": {
      "text/plain": [
       "-1"
      ]
     },
     "execution_count": 73,
     "metadata": {},
     "output_type": "execute_result"
    }
   ],
   "source": [
    "course.find(\"x\")"
   ]
  },
  {
   "cell_type": "code",
   "execution_count": 80,
   "id": "a49b8fb2-7b37-490a-956f-4911c73e6a21",
   "metadata": {},
   "outputs": [
    {
     "data": {
      "text/plain": [
       "3"
      ]
     },
     "execution_count": 80,
     "metadata": {},
     "output_type": "execute_result"
    }
   ],
   "source": [
    "course.count(\"a\")"
   ]
  },
  {
   "cell_type": "code",
   "execution_count": 81,
   "id": "f5f78bb9-f959-496f-bb26-c66b2b6cc2bf",
   "metadata": {},
   "outputs": [
    {
     "data": {
      "text/plain": [
       "'data science master'"
      ]
     },
     "execution_count": 81,
     "metadata": {},
     "output_type": "execute_result"
    }
   ],
   "source": [
    "course"
   ]
  },
  {
   "cell_type": "code",
   "execution_count": 82,
   "id": "4b4a564d-d599-4c70-8b35-202bb27f58db",
   "metadata": {},
   "outputs": [
    {
     "data": {
      "text/plain": [
       "3"
      ]
     },
     "execution_count": 82,
     "metadata": {},
     "output_type": "execute_result"
    }
   ],
   "source": [
    "course.count(\"e\")"
   ]
  },
  {
   "cell_type": "code",
   "execution_count": 83,
   "id": "7b976289-16ff-4db2-b29b-75614089f6a2",
   "metadata": {},
   "outputs": [
    {
     "data": {
      "text/plain": [
       "2"
      ]
     },
     "execution_count": 83,
     "metadata": {},
     "output_type": "execute_result"
    }
   ],
   "source": [
    "course.count(\" \")"
   ]
  },
  {
   "cell_type": "code",
   "execution_count": 84,
   "id": "206533dd-806e-4aa1-b858-c5892e451659",
   "metadata": {},
   "outputs": [
    {
     "data": {
      "text/plain": [
       "7"
      ]
     },
     "execution_count": 84,
     "metadata": {},
     "output_type": "execute_result"
    }
   ],
   "source": [
    "course.find(\"i\") ##count() is used to get the repitition of alphabet in a string"
   ]
  },
  {
   "cell_type": "code",
   "execution_count": 85,
   "id": "036cf537-ea1f-44e8-86c3-637b9d86b3e8",
   "metadata": {},
   "outputs": [
    {
     "data": {
      "text/plain": [
       "0"
      ]
     },
     "execution_count": 85,
     "metadata": {},
     "output_type": "execute_result"
    }
   ],
   "source": [
    "course.count(\"z\")"
   ]
  },
  {
   "cell_type": "code",
   "execution_count": 86,
   "id": "81b1550b-0398-4231-a2f1-5e80ea682993",
   "metadata": {},
   "outputs": [
    {
     "data": {
      "text/plain": [
       "20"
      ]
     },
     "execution_count": 86,
     "metadata": {},
     "output_type": "execute_result"
    }
   ],
   "source": [
    "course.count(\"\")"
   ]
  },
  {
   "cell_type": "code",
   "execution_count": 87,
   "id": "5d75d9ac-1829-40ea-9beb-82ffe21ccc52",
   "metadata": {},
   "outputs": [
    {
     "data": {
      "text/plain": [
       "1"
      ]
     },
     "execution_count": 87,
     "metadata": {},
     "output_type": "execute_result"
    }
   ],
   "source": [
    "course.find(\"ata\")"
   ]
  },
  {
   "cell_type": "code",
   "execution_count": 88,
   "id": "e01348f6-0710-4aa2-a7ef-82f6bcfedcf8",
   "metadata": {},
   "outputs": [],
   "source": [
    "## string split function"
   ]
  },
  {
   "cell_type": "code",
   "execution_count": 89,
   "id": "5434c1d7-c7f4-4fca-b4e8-5d2a820a1792",
   "metadata": {},
   "outputs": [
    {
     "data": {
      "text/plain": [
       "'data science master'"
      ]
     },
     "execution_count": 89,
     "metadata": {},
     "output_type": "execute_result"
    }
   ],
   "source": [
    "course"
   ]
  },
  {
   "cell_type": "code",
   "execution_count": 91,
   "id": "6993d09b-7b37-4f80-9b9e-2b7efaba6e86",
   "metadata": {},
   "outputs": [
    {
     "data": {
      "text/plain": [
       "['data', 'science', 'master']"
      ]
     },
     "execution_count": 91,
     "metadata": {},
     "output_type": "execute_result"
    }
   ],
   "source": [
    "course.split(\" \")"
   ]
  },
  {
   "cell_type": "code",
   "execution_count": 93,
   "id": "cbeefb80-1f3a-43f3-95f4-dcc319df286d",
   "metadata": {},
   "outputs": [
    {
     "data": {
      "text/plain": [
       "['data scie', 'ce master']"
      ]
     },
     "execution_count": 93,
     "metadata": {},
     "output_type": "execute_result"
    }
   ],
   "source": [
    "course.split(\"n\")"
   ]
  },
  {
   "cell_type": "code",
   "execution_count": 94,
   "id": "d0df4ae0-88f2-4c44-b0eb-840bc649a5b4",
   "metadata": {},
   "outputs": [],
   "source": [
    "name=\"aadarsh singh\""
   ]
  },
  {
   "cell_type": "code",
   "execution_count": 95,
   "id": "02d5ac22-d9fc-4f49-ab4a-a3944d3c4825",
   "metadata": {},
   "outputs": [
    {
     "data": {
      "text/plain": [
       "['aadarsh', 'singh']"
      ]
     },
     "execution_count": 95,
     "metadata": {},
     "output_type": "execute_result"
    }
   ],
   "source": [
    "name.split(\" \")"
   ]
  },
  {
   "cell_type": "code",
   "execution_count": 96,
   "id": "ff04775f-d9b9-4aa4-82f2-d52e25cfe78c",
   "metadata": {},
   "outputs": [
    {
     "data": {
      "text/plain": [
       "('data scie', 'n', 'ce master')"
      ]
     },
     "execution_count": 96,
     "metadata": {},
     "output_type": "execute_result"
    }
   ],
   "source": [
    "course.partition('n')"
   ]
  },
  {
   "cell_type": "code",
   "execution_count": 97,
   "id": "b1e6cd1e-a2a7-4ba5-a925-751a7e696534",
   "metadata": {},
   "outputs": [],
   "source": [
    "## string upper and lower case"
   ]
  },
  {
   "cell_type": "code",
   "execution_count": 98,
   "id": "fc3cd2dd-f7e6-45ca-870f-a04f04fa412b",
   "metadata": {},
   "outputs": [
    {
     "data": {
      "text/plain": [
       "'DATA SCIENCE MASTER'"
      ]
     },
     "execution_count": 98,
     "metadata": {},
     "output_type": "execute_result"
    }
   ],
   "source": [
    "course.upper()"
   ]
  },
  {
   "cell_type": "code",
   "execution_count": 99,
   "id": "7dfe3e19-fd60-45b4-98af-821dd42c6a19",
   "metadata": {},
   "outputs": [
    {
     "data": {
      "text/plain": [
       "'data science master'"
      ]
     },
     "execution_count": 99,
     "metadata": {},
     "output_type": "execute_result"
    }
   ],
   "source": [
    "course.lower()"
   ]
  },
  {
   "cell_type": "code",
   "execution_count": 100,
   "id": "4b6b47f2-e0a9-4ebf-9cce-5f63fed203de",
   "metadata": {},
   "outputs": [],
   "source": [
    "course=\"Data Science Masters\""
   ]
  },
  {
   "cell_type": "code",
   "execution_count": 101,
   "id": "2e613aad-082b-4b47-b69e-328d3b09774d",
   "metadata": {},
   "outputs": [
    {
     "data": {
      "text/plain": [
       "'Data Science Masters'"
      ]
     },
     "execution_count": 101,
     "metadata": {},
     "output_type": "execute_result"
    }
   ],
   "source": [
    "course"
   ]
  },
  {
   "cell_type": "code",
   "execution_count": 102,
   "id": "ba45964f-bf60-45a1-a5f8-9a26dcf1fcdc",
   "metadata": {},
   "outputs": [
    {
     "data": {
      "text/plain": [
       "'dATA sCIENCE mASTERS'"
      ]
     },
     "execution_count": 102,
     "metadata": {},
     "output_type": "execute_result"
    }
   ],
   "source": [
    "course.swapcase() ##converts upper case to lower case and vice-versa"
   ]
  },
  {
   "cell_type": "code",
   "execution_count": 103,
   "id": "5cf191bd-496e-4c7e-b6b3-7d636eb1af7c",
   "metadata": {},
   "outputs": [
    {
     "data": {
      "text/plain": [
       "'Data Science Masters'"
      ]
     },
     "execution_count": 103,
     "metadata": {},
     "output_type": "execute_result"
    }
   ],
   "source": [
    "course.title()"
   ]
  },
  {
   "cell_type": "code",
   "execution_count": 104,
   "id": "0a4728fa-5659-4bd4-ae68-5f96e4df4aa9",
   "metadata": {},
   "outputs": [
    {
     "data": {
      "text/plain": [
       "'aadarsh singh'"
      ]
     },
     "execution_count": 104,
     "metadata": {},
     "output_type": "execute_result"
    }
   ],
   "source": [
    "name"
   ]
  },
  {
   "cell_type": "code",
   "execution_count": 105,
   "id": "d5f9ba89-6cfb-4f44-885d-ce81cdd567c4",
   "metadata": {},
   "outputs": [
    {
     "data": {
      "text/plain": [
       "'Aadarsh Singh'"
      ]
     },
     "execution_count": 105,
     "metadata": {},
     "output_type": "execute_result"
    }
   ],
   "source": [
    "name.title()"
   ]
  },
  {
   "cell_type": "code",
   "execution_count": null,
   "id": "3e5b4b87-f2ec-4238-8d56-1ee2d57452ca",
   "metadata": {},
   "outputs": [],
   "source": []
  }
 ],
 "metadata": {
  "kernelspec": {
   "display_name": "Python 3 (ipykernel)",
   "language": "python",
   "name": "python3"
  },
  "language_info": {
   "codemirror_mode": {
    "name": "ipython",
    "version": 3
   },
   "file_extension": ".py",
   "mimetype": "text/x-python",
   "name": "python",
   "nbconvert_exporter": "python",
   "pygments_lexer": "ipython3",
   "version": "3.10.8"
  }
 },
 "nbformat": 4,
 "nbformat_minor": 5
}
